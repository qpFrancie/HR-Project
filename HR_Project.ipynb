{
  "cells": [
    {
      "cell_type": "markdown",
      "metadata": {
        "id": "pfmdhSFZcwqv"
      },
      "source": [
        "#**Project1: HR**\n",
        "## **Sihan Fu(1194226)**\n",
        "## **CPS3320*16**"
      ]
    },
    {
      "cell_type": "markdown",
      "metadata": {
        "id": "Q1Rbi7DydBb7"
      },
      "source": [
        "##**Task1：Data Loading and Cleaning**\n",
        "###a) Write a function load_data(file_path) that loads the CSV file into a pandas Data Frame.\n",
        "###b) Write a function clean_data(df) that:\n",
        "###▪ Checks for and handles any missing values.\n",
        "###▪ Ensures data types are appropriate for analysis."
      ]
    },
    {
      "cell_type": "code",
      "execution_count": 2,
      "metadata": {
        "colab": {
          "base_uri": "https://localhost:8080/"
        },
        "id": "Eys_eIS8dGGQ",
        "outputId": "ed169177-da85-4276-819c-4eb6a0d89217"
      },
      "outputs": [
        {
          "output_type": "stream",
          "name": "stdout",
          "text": [
            "Data loaded successfully.\n",
            "Data cleaning completed.\n",
            "   Employee ID First Name  Last Name        Department  Hire Date  Salary  \\\n",
            "0      1234567      Emily    Johnson                IT 2018-04-10   58000   \n",
            "1      2345678  Alexander  Kuznetsov                HR 2021-08-21   46000   \n",
            "2      3456789        Mia       Wong         Logistics 2019-01-30   49000   \n",
            "3      4567890       Noah     Miller  Customer Service 2022-03-15   41000   \n",
            "4      5678901   Isabella      Rossi                IT 2017-05-22   54000   \n",
            "\n",
            "  Employment Status  \n",
            "0         FULL_TIME  \n",
            "1         PART_TIME  \n",
            "2         FULL_TIME  \n",
            "3         PART_TIME  \n",
            "4         FULL_TIME  \n"
          ]
        }
      ],
      "source": [
        "import employee_analysis as ea\n",
        "\n",
        "file_path = './employees.csv'\n",
        "\n",
        "# Load data\n",
        "df = ea.load_data(file_path)\n",
        "\n",
        "if df is not None:\n",
        "    # Clean data\n",
        "    df_cleaned = ea.clean_data(df)\n",
        "    print(df_cleaned.head())  # Display the first few rows of the cleaned data"
      ]
    },
    {
      "cell_type": "markdown",
      "metadata": {
        "id": "tDVgLWz_tCnq"
      },
      "source": [
        "##**Task2: Decision Making and Loop**\n",
        "###a) Write a function calculate_average_salary(df, department) that:\n",
        "###▪ Takes the DataFrame and a department name as input.\n",
        "###▪ Returns the average salary of employees in that department.\n",
        "###b) Write a function find_employees_with_experience(df, years) that:\n",
        "###▪ Takes the DataFrame and a number of years as input\n",
        "###▪ Returns a list of names of employees with experience greater than or equal to the specified years"
      ]
    },
    {
      "cell_type": "code",
      "execution_count": 4,
      "metadata": {
        "colab": {
          "base_uri": "https://localhost:8080/"
        },
        "id": "6-c0piffw4O7",
        "outputId": "b968de2a-75b5-40f2-9d90-653c5d7681c6"
      },
      "outputs": [
        {
          "output_type": "stream",
          "name": "stdout",
          "text": [
            "['IT' 'HR' 'Logistics' 'Customer Service']\n",
            "Average salary in HR department: 55666.666666666664\n",
            "Employees with 5 or more years of experience: ['Emily Johnson', 'Mia Wong', 'Isabella Rossi', 'Sofia Kim', 'Ava Kovak', 'Abigail Yamamoto', 'Madison da Silva']\n"
          ]
        }
      ],
      "source": [
        "# View all department names\n",
        "print(df_cleaned['Department'].unique())\n",
        "\n",
        "# Example usage of the functions\n",
        "if df_cleaned is not None:\n",
        "    average_salary_hr = ea.calculate_average_salary(df_cleaned, 'HR')\n",
        "    print(f\"Average salary in HR department: {average_salary_hr}\")\n",
        "\n",
        "    experienced_employees = ea.find_employees_with_experience(df_cleaned, 5)\n",
        "    print(f\"Employees with 5 or more years of experience: {experienced_employees}\")\n"
      ]
    },
    {
      "cell_type": "markdown",
      "metadata": {
        "id": "lYukHilXx91e"
      },
      "source": [
        "##**Task 3: Functions and Modules**\n",
        "###a) Write a function get_department_statistics(df) that:\n",
        "###▪ Returns a dictionary with department names as keys and their respective average salaries and average“ages” as values.\n",
        "###Example output: {'HR': {'Average Salary': 50000, 'Average Age': 3}, ...}\n",
        "###b) Write a module named employee_analysis.py and move all the above functions to this module. Import this module into your main script and call the functions as needed."
      ]
    },
    {
      "cell_type": "code",
      "execution_count": 5,
      "metadata": {
        "colab": {
          "base_uri": "https://localhost:8080/"
        },
        "id": "m1vYpAiiyZTY",
        "outputId": "fe7c4ef1-7f38-473a-9898-3c9d56cc15d0"
      },
      "outputs": [
        {
          "output_type": "stream",
          "name": "stdout",
          "text": [
            "{'IT': {'Average Salary': 56000, 'Average Age': 6}, 'HR': {'Average Salary': 55667, 'Average Age': 3}, 'Logistics': {'Average Salary': 48667, 'Average Age': 6}, 'Customer Service': {'Average Salary': 42500, 'Average Age': 2}}\n"
          ]
        }
      ],
      "source": [
        "if df_cleaned is not None:\n",
        "    department_statistics = ea.get_department_statistics(df_cleaned)\n",
        "    print(department_statistics)\n"
      ]
    },
    {
      "cell_type": "markdown",
      "metadata": {
        "id": "1bAp7W2y40Vg"
      },
      "source": [
        "##**Task4: Data Visualization with Matplotlib**\n",
        "###a) Write a function plot_salary_distribution(df) that:\n",
        "###▪ Plots the distribution of salaries using a histogram.\n",
        "###b) Save the plot as salary_distribution.png.\n",
        "###c) Write a function plot_average_salary_by_department(df) that:\n",
        "###▪ Plots the average salary by department using a bar chart\n",
        "###d) Save the plot as average_salary_by_department.png"
      ]
    },
    {
      "cell_type": "code",
      "execution_count": 6,
      "metadata": {
        "colab": {
          "base_uri": "https://localhost:8080/"
        },
        "id": "XsEtcgUO4z71",
        "outputId": "69e1485e-37fa-4ee5-9766-78f35d07192d"
      },
      "outputs": [
        {
          "output_type": "stream",
          "name": "stdout",
          "text": [
            "Data cleaning completed.\n",
            "Saved salary distribution plot as salary_distribution.png.\n",
            "Saved average salary by department plot as average_salary_by_department.png.\n"
          ]
        }
      ],
      "source": [
        "if df is not None:\n",
        "    df_cleaned = ea.clean_data(df)\n",
        "\n",
        "    # Generate salary distribution map\n",
        "    ea.plot_salary_distribution(df_cleaned)\n",
        "\n",
        "    # Generate a bar chart of average salary by department\n",
        "    ea.plot_average_salary_by_department(df_cleaned)\n"
      ]
    },
    {
      "cell_type": "markdown",
      "metadata": {
        "id": "1iMUgOnJ5jq_"
      },
      "source": [
        "##**Task 5: Data Visualization with Seaborn and Plotly**\n",
        "###a) Write a function plot_salary_vs_experience(df) that:\n",
        "###▪ Plots a scatter plot of salary vs. experience using Seaborn.\n",
        "###b) Save the plot as salary_vs_experience.png\n",
        "###c) Write a function plot_age_distribution_by_department(df) that:\n",
        "###▪ Plots the distribution of ages for each department using a box plot with Plotly\n",
        "###d) Save the plot as age_distribution_by_department.png"
      ]
    },
    {
      "cell_type": "code",
      "execution_count": 3,
      "metadata": {
        "colab": {
          "base_uri": "https://localhost:8080/"
        },
        "id": "GcGluyz77Hs6",
        "outputId": "c54a9e6f-3f68-4ea2-952c-3c2b47b9fd79"
      },
      "outputs": [
        {
          "output_type": "stream",
          "name": "stdout",
          "text": [
            "Collecting kaleido\n",
            "  Downloading kaleido-0.2.1-py2.py3-none-manylinux1_x86_64.whl (79.9 MB)\n",
            "\u001b[2K     \u001b[90m━━━━━━━━━━━━━━━━━━━━━━━━━━━━━━━━━━━━━━━━\u001b[0m \u001b[32m79.9/79.9 MB\u001b[0m \u001b[31m8.0 MB/s\u001b[0m eta \u001b[36m0:00:00\u001b[0m\n",
            "\u001b[?25hInstalling collected packages: kaleido\n",
            "Successfully installed kaleido-0.2.1\n",
            "Saved salary vs experience plot as salary_vs_experience.png.\n",
            "Saved age distribution by department plot as age_distribution_by_department.png.\n"
          ]
        }
      ],
      "source": [
        "!pip install -U kaleido\n",
        "\n",
        "if df is not None:\n",
        "\n",
        "    # Generate salary vs experience scatter plot\n",
        "    ea.plot_salary_vs_experience(df_cleaned)\n",
        "\n",
        "    # Generate age distribution by department box plot\n",
        "    ea.plot_age_distribution_by_department(df_cleaned)"
      ]
    }
  ],
  "metadata": {
    "colab": {
      "provenance": []
    },
    "kernelspec": {
      "display_name": "Python 3",
      "name": "python3"
    },
    "language_info": {
      "name": "python"
    }
  },
  "nbformat": 4,
  "nbformat_minor": 0
}